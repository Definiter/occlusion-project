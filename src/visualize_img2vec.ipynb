{
 "cells": [
  {
   "cell_type": "code",
   "execution_count": 47,
   "metadata": {
    "collapsed": false,
    "scrolled": false
   },
   "outputs": [
    {
     "name": "stdout",
     "output_type": "stream",
     "text": [
      "vectors_crop_0_crop_40.pickle loaded.\n",
      "vectors_crop_all_crop_40.pickle loaded.\n"
     ]
    }
   ],
   "source": [
    "from constant import *\n",
    "import numpy as np\n",
    "import matplotlib.pyplot as plt\n",
    "%matplotlib inline\n",
    "import sys\n",
    "import time\n",
    "import cPickle\n",
    "import argparse\n",
    "import math\n",
    "import random\n",
    "from sklearn.manifold import TSNE\n",
    "from sklearn import decomposition\n",
    "\n",
    "#### Parameters ####\n",
    "model_type_strs = ['crop'] # len = 1\n",
    "model_names = ['0', 'all'] # len = 2\n",
    "test_type_strs = ['crop'] # len = 1\n",
    "test_names = ['40'] # len = 1\n",
    "####################\n",
    "\n",
    "plt.rcParams['figure.figsize'] = (15, 15)\n",
    "\n",
    "class_sum = 100\n",
    "image_sum_per_class = 1000\n",
    "\n",
    "sample = random.sample(range(image_sum_per_class), class_sum)\n",
    "\n",
    "accuracy = {}\n",
    "\n",
    "for model_type_str in model_type_strs:\n",
    "    for model_name in model_names:\n",
    "        for test_type_str in test_type_strs:\n",
    "            for test_name in test_names:\n",
    "                config_str = model_type_str + model_name + test_type_str + test_name\n",
    "                with open('{}img2vec/vectors_{}_{}_{}_{}.pickle'\\\n",
    "                          .format(result_root, model_type_str, model_name, test_type_str, test_name)) as f:\n",
    "                    vectors = cPickle.load(f)\n",
    "                    print 'vectors_{}_{}_{}_{}.pickle loaded.'.format(model_type_str, model_name, test_type_str, test_name)\n",
    "                    \n",
    "                accuracy[config_str] = np.zeros(class_sum)\n",
    "                for label in range(class_sum):\n",
    "                    vec = []\n",
    "                    accuracy[config_str][label] = 0.0\n",
    "                    for i in range(len(vectors[label])):\n",
    "                        vector, predict_id, index_in_lmdb = vectors[label][i]\n",
    "                        if label == predict_id:\n",
    "                            accuracy[config_str][label] += 1\n",
    "                        vec.append(vector)\n",
    "                    accuracy[config_str][label] /= len(vectors[label])\n",
    "                    mean = np.mean(vec, axis=0)\n",
    "                    std = np.std(vec, axis=0)\n",
    "\n",
    "                    fig = plt.figure()\n",
    "                    ax = plt.gca()\n",
    "                    ax.set_xlim([-10, 110])\n",
    "                    ax.set_ylim([-10, 15])\n",
    "                    plt.errorbar(range(class_sum), mean, yerr=std, fmt='-o')\n",
    "                    plt.title('{}_{}_{}_{}_{} accuracy: {}'\\\n",
    "                                .format(label, model_type_str, model_name, test_type_str, test_name, accuracy[config_str][label]))\n",
    "                    #plt.show()\n",
    "                    fig.savefig('{}img2vec/plots/{}_{}_{}_{}_{}.png'\\\n",
    "                                .format(result_root, model_type_str, test_type_str, test_name, label, model_name))\n",
    "                    plt.close()\n",
    "\n",
    "                    '''\n",
    "                    X = []\n",
    "                    c = []\n",
    "                    for i in range(len(vectors[label])):\n",
    "                        vector, predict_id, index_in_lmdb = vectors[label][i]\n",
    "                        X.append(vector)\n",
    "                        if predict_id == label:\n",
    "                            c.append((1, 1, 1))\n",
    "                        else:\n",
    "                            c.append((0.1, 0.1, 0.1))\n",
    "                    X = np.array(X)\n",
    "                    '''\n",
    "\n",
    "\n",
    "                    '''\n",
    "                    X_tsne = TSNE().fit_transform(vec)\n",
    "                    plt.scatter(X_tsne[:, 0], X_tsne[:, 1], c = c)\n",
    "                    plt.show()\n",
    "                    '''\n",
    "\n",
    "                    #plt.scatter(X[:, 0], X[:, 1], c=c)\n",
    "                    #plt.show()\n",
    "\n",
    "                    '''\n",
    "                    pca = decomposition.PCA(n_components=2)\n",
    "                    pca.fit(X)\n",
    "                    print pca.explained_variance_ratio_\n",
    "                    X = pca.transform(X)\n",
    "                    plt.scatter(X[:, 0], X[:, 1], c=c)\n",
    "                    plt.show()\n",
    "                    '''"
   ]
  },
  {
   "cell_type": "code",
   "execution_count": 48,
   "metadata": {
    "collapsed": false,
    "scrolled": false
   },
   "outputs": [
    {
     "name": "stdout",
     "output_type": "stream",
     "text": [
      "[ 45.  64.  78.  89.  87.  90.  51.  44.  73.  86.  96.  46.  63.  66.  98.\n",
      "  52.  91.  57.  50.  92.  65.  60.  88.  70.  41.  99.  24.  83.  11.   2.\n",
      "  76.  30.  28.  74.  40.  80.  69.  42.   3.  54.  72.  43.   5.  56.   4.\n",
      "  31.  68.  15.   0.  95.  71.   1.  97.   9.  93.  14.  59.  58.  47.  84.\n",
      "  16.  39.  94.  17.  19.  10.  23.  33.  62.  25.  79.  85.  38.  18.  35.\n",
      "  20.  34.  77.   8.  22.  27.  21.  12.   7.  61.  29.  67.  36.  48.  82.\n",
      "  81.  53.  32.  13.  75.  37.  49.  26.  55.   6.]\n"
     ]
    },
    {
     "data": {
      "image/png": "[encoded data removed]",
      "text/plain": [
       "<matplotlib.figure.Figure at 0x2b4dfdffc450>"
      ]
     },
     "metadata": {},
     "output_type": "display_data"
    },
    {
     "data": {
      "text/plain": [
       "<matplotlib.figure.Figure at 0x2b4e04168b10>"
      ]
     },
     "metadata": {},
     "output_type": "display_data"
    }
   ],
   "source": [
    "\n",
    "plt.rcParams['figure.figsize'] = (20, 20)\n",
    "\n",
    "colors = [(0,0,0,0.8), (0.8,0.8,0.8,0.3)]\n",
    "cc = 0\n",
    "\n",
    "fig = plt.figure()\n",
    "ax = plt.gca()\n",
    "ax.set_xlim([0, 100])\n",
    "ax.set_ylim([0, 1])\n",
    "for model_type_str in model_type_strs:\n",
    "    for test_type_str in test_type_strs:\n",
    "        for test_name in test_names:\n",
    "            gap = np.zeros((100, 4))\n",
    "            for i in range(len(model_names)): # Should be 2.\n",
    "                config_str = model_type_str + model_names[i] + test_type_str + test_name\n",
    "                gap[:, i] = accuracy[config_str]\n",
    "            gap[:, 2] = gap[:, 1] - gap[:, 0]\n",
    "            gap[:, 3] = range(class_sum)\n",
    "            gap = np.array(sorted(gap, key = lambda k: k[0], reverse = True))\n",
    "            print gap[:, 3]\n",
    "            plt.bar(range(100), gap[:, 0], color = colors[0], width = 1)\n",
    "            plt.bar(range(100), gap[:, 1], color = colors[1], width = 1)\n",
    "            #plt.xticks(range(100), gap[:, 3])\n",
    "            plt.show()\n",
    "            fig.savefig('{}img2vec/plots/accuracy_sorted_{}_{}_{}_{}.png'\\\n",
    "                        .format(result_root, model_type_str, model_name, test_type_str, test_name))\n",
    "            plt.clf()"
   ]
  },
  {
   "cell_type": "code",
   "execution_count": null,
   "metadata": {
    "collapsed": true
   },
   "outputs": [],
   "source": []
  }
 ],
 "metadata": {
  "kernelspec": {
   "display_name": "Python 2",
   "language": "python",
   "name": "python2"
  },
  "language_info": {
   "codemirror_mode": {
    "name": "ipython",
    "version": 2
   },
   "file_extension": ".py",
   "mimetype": "text/x-python",
   "name": "python",
   "nbconvert_exporter": "python",
   "pygments_lexer": "ipython2",
   "version": "2.7.12"
  }
 },
 "nbformat": 4,
 "nbformat_minor": 0
}
