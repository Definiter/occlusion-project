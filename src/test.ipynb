{
 "cells": [
  {
   "cell_type": "code",
   "execution_count": 4,
   "metadata": {
    "collapsed": false,
    "scrolled": true
   },
   "outputs": [
    {
     "name": "stdout",
     "output_type": "stream",
     "text": [
      "Overwriting test.py\n"
     ]
    }
   ],
   "source": [
    "%%file test.py\n",
    "# Test.\n",
    "from constant import *\n",
    "import numpy as np\n",
    "import matplotlib.pyplot as plt\n",
    "#%matplotlib inline\n",
    "import sys\n",
    "import time\n",
    "import cPickle\n",
    "import argparse\n",
    "\n",
    "#test_dataset = ['0', '10', '20', '30', '40', '50', '60', '70', '80', '90', '100']\n",
    "#test_dataset = ['0', '20', '40', '60', '80', '100']\n",
    "#### Parameters ####\n",
    "parser = argparse.ArgumentParser()\n",
    "parser.add_argument('--gpu', default=0, required=False)\n",
    "parser.add_argument('--model_type_str', required=True)\n",
    "parser.add_argument('--model_name', required=True)\n",
    "parser.add_argument('--test_type_str', required=True)\n",
    "parser.add_argument('--test_name', required=True)\n",
    "\n",
    "args = parser.parse_args()\n",
    "gpu = int(args.gpu)\n",
    "model_type_str = args.model_type_str\n",
    "model_name = args.model_name\n",
    "test_type_str = args.test_type_str\n",
    "test_name = args.test_name\n",
    "\n",
    "'''\n",
    "gpu = 0\n",
    "model_type_str = 'prototype'\n",
    "model_name = '0'\n",
    "test_type_str = '1k_nocrop_obj'\n",
    "test_name = '0'\n",
    "'''\n",
    "####################\n",
    "\n",
    "import caffe\n",
    "\n",
    "caffe.set_device(gpu)\n",
    "caffe.set_mode_gpu()\n",
    "\n",
    "print 'Processing: finetune_alexnet_{}_{} on GPU {}, test on {}'.format(model_type_str, model_name, gpu, test_type_str)\n",
    "\n",
    "net = caffe.Net(result_root + 'model/finetune_alexnet_{}_{}/deploy.prototxt'.format(model_type_str, model_name),\n",
    "                result_root + 'model/finetune_alexnet_{}_{}/finetune_alexnet_{}_{}.caffemodel'.format(model_type_str, model_name, model_type_str, model_name),\n",
    "                caffe.TEST)\n",
    "'''\n",
    "net = caffe.Net(result_root + 'model/bvlc_alexnet/deploy.prototxt',\n",
    "                result_root + 'model/bvlc_alexnet/bvlc_alexnet.caffemodel',\n",
    "                caffe.TEST)\n",
    "'''\n",
    "# input preprocessing: 'data' is the name of the input blob == net.inputs[0]\n",
    "transformer = caffe.io.Transformer({'data': net.blobs['data'].data.shape})\n",
    "transformer.set_transpose('data', (2,0,1))\n",
    "transformer.set_mean('data', np.load(caffe_root + 'python/caffe/imagenet/ilsvrc_2012_mean.npy').mean(1).mean(1)) # mean pixel\n",
    "transformer.set_raw_scale('data', 255)  # the reference model operates on images in [0,255] range instead of [0,1]\n",
    "transformer.set_channel_swap('data', (2,1,0))  # the reference model has channels in BGR order instead of RGB\n",
    "\n",
    "# set net to batch size of 50\n",
    "net.blobs['data'].reshape(50,3,227,227)\n",
    "\n",
    "test_file = open('{}dataset/test_{}_{}.txt'.format(imagenet_root, test_type_str, test_name), 'r')\n",
    "\n",
    "positive_true = 0\n",
    "image_sum = 0\n",
    "accuracy = 0.0\n",
    "\n",
    "lines = test_file.readlines()\n",
    "image_sum = len(lines)\n",
    "now_sum = 0\n",
    "\n",
    "start_time = time.time()\n",
    "for i, line in enumerate(lines):\n",
    "    now_sum += 1\n",
    "    image_path, class_id = line.split(' ')\n",
    "    image_name = image_path.split('/')[-1]\n",
    "    class_id = int(class_id)\n",
    "    net.blobs['data'].data[...] = transformer.preprocess('data', caffe.io.load_image(image_path))\n",
    "    out = net.forward()\n",
    "    predict_id = out['prob'][0].argmax()\n",
    "    if not '1k' in model_type_str:\n",
    "        true_id = class_id\n",
    "    else:\n",
    "        true_id = new_to_original_class_id[class_id]\n",
    "    if true_id == predict_id:\n",
    "        positive_true += 1        \n",
    "    if i % 1000 == 0:\n",
    "        second = int(time.time() - start_time)\n",
    "        now_time = time.strftime(\"%H:%M:%S\", time.gmtime(second))\n",
    "        estimated = int(float(image_sum) / now_sum * second)\n",
    "        estimated_time = time.strftime(\"%H:%M:%S\", time.gmtime(estimated))\n",
    "        print '[{}/{}] {:5}/{:5}: {} {} {} {}'.format(now_time, estimated_time, i, \\\n",
    "                image_sum, image_name, predict_id, true_id, positive_true / float(now_sum))\n",
    "accuracy = positive_true / float(image_sum)\n",
    "\n",
    "print 'positive_true: ', positive_true\n",
    "print 'image_sum: ', image_sum\n",
    "print 'accuracy: ', accuracy\n",
    "    \n",
    "with open(result_root + 'test/accuracy_{}_{}_{}_{}.pickle'.format(model_type_str, model_name, test_type_str, test_name), 'wb') as f:\n",
    "    cPickle.dump(accuracy, f)"
   ]
  },
  {
   "cell_type": "code",
   "execution_count": 3,
   "metadata": {
    "collapsed": false
   },
   "outputs": [
    {
     "name": "stdout",
     "output_type": "stream",
     "text": [
      "positive_true = [5993, 52647, 26967, 0, 0]\n",
      "image_sum = [6000, 54000, 54000, 0, 0]\n",
      "accuracy = [0.9988333333333334, 0.9749444444444444, 0.0, 0.0, 0.0]\n"
     ]
    }
   ],
   "source": [
    "print 'positive_true =', positive_true\n",
    "print 'image_sum =' , image_sum\n",
    "print 'accuracy =', accuracy"
   ]
  },
  {
   "cell_type": "code",
   "execution_count": null,
   "metadata": {
    "collapsed": true
   },
   "outputs": [],
   "source": []
  }
 ],
 "metadata": {
  "kernelspec": {
   "display_name": "Python 2",
   "language": "python",
   "name": "python2"
  },
  "language_info": {
   "codemirror_mode": {
    "name": "ipython",
    "version": 2
   },
   "file_extension": ".py",
   "mimetype": "text/x-python",
   "name": "python",
   "nbconvert_exporter": "python",
   "pygments_lexer": "ipython2",
   "version": "2.7.12"
  }
 },
 "nbformat": 4,
 "nbformat_minor": 0
}
