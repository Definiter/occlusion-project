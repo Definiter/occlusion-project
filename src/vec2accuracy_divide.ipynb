{
 "cells": [
  {
   "cell_type": "code",
   "execution_count": 1,
   "metadata": {
    "collapsed": false,
    "deletable": true,
    "editable": true,
    "scrolled": false
   },
   "outputs": [
    {
     "name": "stdout",
     "output_type": "stream",
     "text": [
      "vectors_crop_0_crop_0.pickle loaded.\n",
      "vectors_crop_0_crop_10.pickle loaded.\n",
      "vectors_crop_0_crop_20.pickle loaded.\n",
      "vectors_crop_0_crop_30.pickle loaded.\n",
      "vectors_crop_0_crop_40.pickle loaded.\n",
      "vectors_crop_0_crop_50.pickle loaded.\n",
      "vectors_crop_0_crop_60.pickle loaded.\n",
      "vectors_crop_0_crop_70.pickle loaded.\n",
      "vectors_crop_0_crop_80.pickle loaded.\n",
      "vectors_crop_0_crop_90.pickle loaded.\n",
      "vectors_crop_0_crop_100.pickle loaded.\n",
      "vectors_crop_all_crop_0.pickle loaded.\n",
      "vectors_crop_all_crop_10.pickle loaded.\n",
      "vectors_crop_all_crop_20.pickle loaded.\n",
      "vectors_crop_all_crop_30.pickle loaded.\n",
      "vectors_crop_all_crop_40.pickle loaded.\n",
      "vectors_crop_all_crop_50.pickle loaded.\n",
      "vectors_crop_all_crop_60.pickle loaded.\n",
      "vectors_crop_all_crop_70.pickle loaded.\n",
      "vectors_crop_all_crop_80.pickle loaded.\n",
      "vectors_crop_all_crop_90.pickle loaded.\n",
      "vectors_crop_all_crop_100.pickle loaded.\n"
     ]
    },
    {
     "ename": "IndexError",
     "evalue": "index 10 is out of bounds for axis 0 with size 10",
     "output_type": "error",
     "traceback": [
      "\u001b[0;31m---------------------------------------------------------------------------\u001b[0m",
      "\u001b[0;31mIndexError\u001b[0m                                Traceback (most recent call last)",
      "\u001b[0;32m<ipython-input-1-58562ea9969f>\u001b[0m in \u001b[0;36m<module>\u001b[0;34m()\u001b[0m\n\u001b[1;32m     63\u001b[0m                             \u001b[0mvector\u001b[0m\u001b[0;34m,\u001b[0m \u001b[0mpredict_id\u001b[0m\u001b[0;34m,\u001b[0m \u001b[0mindex_in_lmdb\u001b[0m \u001b[0;34m=\u001b[0m \u001b[0mvector_data\u001b[0m\u001b[0;34m[\u001b[0m\u001b[0mconfig_key\u001b[0m\u001b[0;34m]\u001b[0m\u001b[0;34m[\u001b[0m\u001b[0mlabel\u001b[0m\u001b[0;34m]\u001b[0m\u001b[0;34m[\u001b[0m\u001b[0mj\u001b[0m\u001b[0;34m]\u001b[0m\u001b[0;34m\u001b[0m\u001b[0m\n\u001b[1;32m     64\u001b[0m                             \u001b[0;32mif\u001b[0m \u001b[0mlabel\u001b[0m \u001b[0;34m==\u001b[0m \u001b[0mpredict_id\u001b[0m\u001b[0;34m:\u001b[0m\u001b[0;34m\u001b[0m\u001b[0m\n\u001b[0;32m---> 65\u001b[0;31m                                 \u001b[0maccuracy\u001b[0m\u001b[0;34m[\u001b[0m\u001b[0mi\u001b[0m\u001b[0;34m]\u001b[0m \u001b[0;34m+=\u001b[0m \u001b[0;36m1\u001b[0m\u001b[0;34m\u001b[0m\u001b[0m\n\u001b[0m\u001b[1;32m     66\u001b[0m                             \u001b[0mdivide_length\u001b[0m\u001b[0;34m[\u001b[0m\u001b[0mi\u001b[0m\u001b[0;34m]\u001b[0m \u001b[0;34m+=\u001b[0m \u001b[0;36m1\u001b[0m\u001b[0;34m\u001b[0m\u001b[0m\n\u001b[1;32m     67\u001b[0m                 \u001b[0;32mfor\u001b[0m \u001b[0mi\u001b[0m \u001b[0;32min\u001b[0m \u001b[0mrange\u001b[0m\u001b[0;34m(\u001b[0m\u001b[0mdivide_sum\u001b[0m\u001b[0;34m)\u001b[0m\u001b[0;34m:\u001b[0m\u001b[0;34m\u001b[0m\u001b[0m\n",
      "\u001b[0;31mIndexError\u001b[0m: index 10 is out of bounds for axis 0 with size 10"
     ]
    }
   ],
   "source": [
    "from constant import *\n",
    "import numpy as np\n",
    "import matplotlib\n",
    "import matplotlib.pyplot as plt\n",
    "%matplotlib inline\n",
    "import sys\n",
    "import time\n",
    "import cPickle\n",
    "import argparse\n",
    "import math\n",
    "import random\n",
    "from sklearn.manifold import TSNE\n",
    "from sklearn import decomposition\n",
    "\n",
    "#### Parameters ####\n",
    "model_type_strs = ['crop']\n",
    "model_names = ['0', 'all']\n",
    "#model_names = ['0']\n",
    "test_type_strs = ['crop'] \n",
    "test_names = ['0', '10', '20', '30', '40', '50', '60', '70', '80', '90', '100']\n",
    "#test_names = ['10']\n",
    "####################\n",
    "\n",
    "class_sum = 100\n",
    "# vector_sum = 1000 # not uniform for 'crop'\n",
    "dim_sum = 100 # == class_sum\n",
    "\n",
    "divide_sum = 10\n",
    "\n",
    "vector_data = {}\n",
    "for model_type_str in model_type_strs:\n",
    "    for test_type_str in test_type_strs:\n",
    "        # Load given config.\n",
    "        for model_name in model_names:\n",
    "            for test_name in test_names:\n",
    "                config_key = (model_type_str, model_name, test_type_str, test_name)\n",
    "                vector_data[config_key] = None\n",
    "                with open('{}img2vec/vectors_{}_{}_{}_{}.pickle'\\\n",
    "                          .format(result_root, model_type_str, model_name, test_type_str, test_name)) as f:\n",
    "                    vector_data[config_key] = cPickle.load(f)\n",
    "                    print 'vectors_{}_{}_{}_{}.pickle loaded.'.format(model_type_str, model_name, test_type_str, test_name)\n",
    " "
   ]
  },
  {
   "cell_type": "code",
   "execution_count": 8,
   "metadata": {
    "collapsed": false,
    "deletable": true,
    "editable": true,
    "scrolled": true
   },
   "outputs": [
    {
     "name": "stdout",
     "output_type": "stream",
     "text": [
      "accuracy_divide_10_crop_0_crop_0 dumped.\n",
      "accuracy_divide_10_crop_0_crop_10 dumped.\n",
      "accuracy_divide_10_crop_0_crop_20 dumped.\n",
      "accuracy_divide_10_crop_0_crop_30 dumped.\n",
      "accuracy_divide_10_crop_0_crop_40 dumped.\n",
      "accuracy_divide_10_crop_0_crop_50 dumped.\n",
      "accuracy_divide_10_crop_0_crop_60 dumped.\n",
      "accuracy_divide_10_crop_0_crop_70 dumped.\n",
      "accuracy_divide_10_crop_0_crop_80 dumped.\n",
      "accuracy_divide_10_crop_0_crop_90 dumped.\n",
      "accuracy_divide_10_crop_0_crop_100 dumped.\n",
      "accuracy_divide_10_crop_all_crop_0 dumped.\n",
      "accuracy_divide_10_crop_all_crop_10 dumped.\n",
      "accuracy_divide_10_crop_all_crop_20 dumped.\n",
      "accuracy_divide_10_crop_all_crop_30 dumped.\n",
      "accuracy_divide_10_crop_all_crop_40 dumped.\n",
      "accuracy_divide_10_crop_all_crop_50 dumped.\n",
      "accuracy_divide_10_crop_all_crop_60 dumped.\n",
      "accuracy_divide_10_crop_all_crop_70 dumped.\n",
      "accuracy_divide_10_crop_all_crop_80 dumped.\n",
      "accuracy_divide_10_crop_all_crop_90 dumped.\n",
      "accuracy_divide_10_crop_all_crop_100 dumped.\n"
     ]
    }
   ],
   "source": [
    "for model_type_str in model_type_strs:\n",
    "    for model_name in model_names:\n",
    "        for test_type_str in test_type_strs:\n",
    "            for test_name in test_names:\n",
    "                config_key = (model_type_str, model_name, test_type_str, test_name)\n",
    "                accuracy = np.zeros(divide_sum)\n",
    "                divide_length = np.zeros(divide_sum)\n",
    "                for label in range(class_sum):\n",
    "                    # Collect vec and accuracy info.\n",
    "                    chunks = np.array_split(range(len(vector_data[config_key][label])), divide_sum)\n",
    "                    for i, chunk in enumerate(chunks):\n",
    "                        for j in chunk:\n",
    "                            vector, predict_id, index_in_lmdb = vector_data[config_key][label][j]\n",
    "                            if label == predict_id:\n",
    "                                accuracy[i] += 1\n",
    "                            divide_length[i] += 1\n",
    "                for i in range(divide_sum):\n",
    "                    accuracy[i] /= divide_length[i]\n",
    "                    \n",
    "                with open(result_root + 'test/accuracy_divide_{}_{}_{}_{}_{}.pickle'.format(divide_sum, model_type_str, model_name, test_type_str, test_name), 'wb') as f:\n",
    "                    cPickle.dump((accuracy, divide_length), f)\n",
    "                    print 'accuracy_divide_{}_{}_{}_{}_{} dumped.'.format(divide_sum, model_type_str, model_name, test_type_str, test_name)"
   ]
  },
  {
   "cell_type": "code",
   "execution_count": null,
   "metadata": {
    "collapsed": true,
    "deletable": true,
    "editable": true
   },
   "outputs": [],
   "source": []
  }
 ],
 "metadata": {
  "kernelspec": {
   "display_name": "Python 2",
   "language": "python",
   "name": "python2"
  },
  "language_info": {
   "codemirror_mode": {
    "name": "ipython",
    "version": 2
   },
   "file_extension": ".py",
   "mimetype": "text/x-python",
   "name": "python",
   "nbconvert_exporter": "python",
   "pygments_lexer": "ipython2",
   "version": "2.7.13"
  }
 },
 "nbformat": 4,
 "nbformat_minor": 0
}
