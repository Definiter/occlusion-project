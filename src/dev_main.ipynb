{
 "cells": [
  {
   "cell_type": "code",
   "execution_count": 1,
   "metadata": {
    "collapsed": false
   },
   "outputs": [
    {
     "name": "stdout",
     "output_type": "stream",
     "text": [
      "Start initializing caffe network.\n",
      "Initialized caffe network.\n",
      "Cluster loaded.\n"
     ]
    },
    {
     "data": {
      "text/plain": [
       "'\\nvisualize_cluster(net, cluster)\\n\\n# 5. Assign cluster.\\ncluster.assign()\\n'"
      ]
     },
     "execution_count": 1,
     "metadata": {},
     "output_type": "execute_result"
    }
   ],
   "source": [
    "# %load main.py\n",
    "# Initialize caffe.\n",
    "import matplotlib\n",
    "from constant import *\n",
    "from vector import *\n",
    "import numpy as np\n",
    "import caffe\n",
    "import cPickle\n",
    "\n",
    "# 1. Initialize caffe network.\n",
    "print(\"Start initializing caffe network.\")\n",
    "imagenet_labels_filename = caffe_root + 'data/ilsvrc12/synset_words.txt'\n",
    "labels = np.loadtxt(imagenet_labels_filename, str, delimiter='\\t')\n",
    "mode = 'gpu'\n",
    "if mode == 'gpu':\n",
    "    caffe.set_device(0)\n",
    "    caffe.set_mode_gpu()\n",
    "else:\n",
    "    caffe.set_mode_cpu()\n",
    "net = caffe.Classifier(caffe_root + 'models/vgg16/VGG_ILSVRC_16_layers_deploy.prototxt',\n",
    "        caffe_root + 'models/vgg16/VGG_ILSVRC_16_layers.caffemodel',\n",
    "        mean=np.load(caffe_root + 'python/caffe/imagenet/ilsvrc_2012_mean.npy').mean(1).mean(1),\n",
    "        channel_swap=(2, 1, 0),\n",
    "        raw_scale=255,\n",
    "        image_dims=(224, 224))\n",
    "# Dimensions: 224x224, with 3 channels. Batch size 1\n",
    "# NOTE: maybe can use batching to speed up processing?\n",
    "net.blobs['data'].reshape(1, 3, 224, 224)\n",
    "print(\"Initialized caffe network.\")\n",
    "\n",
    "'''\n",
    "# 2. Extractor.\n",
    "print(\"Start extracting vectors.\")\n",
    "from extractor import Extractor\n",
    "extractor = Extractor('conv4_1', 0.3, net)\n",
    "extractor.extract()\n",
    "extractor.save()\n",
    "print(\"Extracted vectors in all classes.\")\n",
    "\n",
    "# 3. Cluster.\n",
    "print(\"Start clustering.\")\n",
    "from cluster import *\n",
    "extractor = None\n",
    "with open(research_root + 'result/' + dataset_name + 'extractor.pickle', 'rb') as handle:\n",
    "    extractor = cPickle.load(handle)\n",
    "    print(str(len(extractor.vectors)) + \" vectors loaded.\")\n",
    "print(str(len(extractor.vectors)) + \" vectors loaded.\")\n",
    "cluster = Cluster(64, extractor.vectors, extractor.layer)\n",
    "cluster.clustering()\n",
    "cluster.save()\n",
    "print(\"Clustered all vectors.\")\n",
    "\n",
    "'''\n",
    "# 4. Visualize cluster.\n",
    "cluster = None\n",
    "with open(research_root + 'result/' + dataset_name + 'cluster.pickle', 'rb') as handle:\n",
    "    cluster = cPickle.load(handle)\n",
    "    print(\"Cluster loaded.\")\n",
    "from vis_utility import *\n",
    "'''\n",
    "visualize_cluster(net, cluster)\n",
    "\n",
    "# 5. Assign cluster.\n",
    "cluster.assign()\n",
    "'''\n",
    "\n",
    "\n",
    "# 6. Classification of test dataset.\n",
    "\n",
    "\n",
    "# 7. Visualize result."
   ]
  },
  {
   "cell_type": "code",
   "execution_count": 2,
   "metadata": {
    "collapsed": false
   },
   "outputs": [
    {
     "name": "stdout",
     "output_type": "stream",
     "text": [
      "[t-SNE] Computing pairwise distances...\n",
      "[t-SNE] Computing 91 nearest neighbors...\n",
      "[t-SNE] Computed conditional probabilities for sample 1000 / 20300\n",
      "[t-SNE] Computed conditional probabilities for sample 2000 / 20300\n",
      "[t-SNE] Computed conditional probabilities for sample 3000 / 20300\n",
      "[t-SNE] Computed conditional probabilities for sample 4000 / 20300\n",
      "[t-SNE] Computed conditional probabilities for sample 5000 / 20300\n",
      "[t-SNE] Computed conditional probabilities for sample 6000 / 20300\n",
      "[t-SNE] Computed conditional probabilities for sample 7000 / 20300\n",
      "[t-SNE] Computed conditional probabilities for sample 8000 / 20300\n",
      "[t-SNE] Computed conditional probabilities for sample 9000 / 20300\n",
      "[t-SNE] Computed conditional probabilities for sample 10000 / 20300\n",
      "[t-SNE] Computed conditional probabilities for sample 11000 / 20300\n",
      "[t-SNE] Computed conditional probabilities for sample 12000 / 20300\n",
      "[t-SNE] Computed conditional probabilities for sample 13000 / 20300\n",
      "[t-SNE] Computed conditional probabilities for sample 14000 / 20300\n",
      "[t-SNE] Computed conditional probabilities for sample 15000 / 20300\n",
      "[t-SNE] Computed conditional probabilities for sample 16000 / 20300\n",
      "[t-SNE] Computed conditional probabilities for sample 17000 / 20300\n",
      "[t-SNE] Computed conditional probabilities for sample 18000 / 20300\n",
      "[t-SNE] Computed conditional probabilities for sample 19000 / 20300\n",
      "[t-SNE] Computed conditional probabilities for sample 20000 / 20300\n",
      "[t-SNE] Computed conditional probabilities for sample 20300 / 20300\n",
      "[t-SNE] Mean sigma: 713.845287\n",
      "[t-SNE] Error after 75 iterations with early exaggeration: 0.902818\n",
      "[t-SNE] Error after 100 iterations: 0.902041\n"
     ]
    }
   ],
   "source": [
    "import numpy as np\n",
    "from sklearn.manifold import TSNE\n",
    "data = np.array([v.data for v in cluster.vectors])\n",
    "tsne_model = TSNE(n_components=2, init='pca', verbose=1)\n",
    "trans_tsne = tsne_model.fit_transform(data)"
   ]
  },
  {
   "cell_type": "code",
   "execution_count": 15,
   "metadata": {
    "collapsed": false
   },
   "outputs": [
    {
     "name": "stdout",
     "output_type": "stream",
     "text": [
      "[[-1093.97974537 -1680.2055922 ]\n",
      " [-1065.58286029 -1793.48691434]\n",
      " [  -48.35410414 -2145.69567101]\n",
      " ..., \n",
      " [ 3143.76581496 -1513.16238366]\n",
      " [ 4545.17971253  -110.03924608]\n",
      " [ 6385.70927257 -1519.4218142 ]]\n",
      "[-1093.97974537 -1065.58286029   -48.35410414 ...,  3143.76581496\n",
      "  4545.17971253  6385.70927257]\n"
     ]
    }
   ],
   "source": [
    "import matplotlib.pyplot as plt\n",
    "print trans_tsne\n",
    "print trans_tsne[:,0]\n",
    "plt.scatter(trans_tsne[:, 0], trans_tsne[:, 1], c=cluster.predicted)\n",
    "plt.savefig(os.path.join(research_root + 'result/' + dataset_name, 'tsne.png'))\n",
    "\n"
   ]
  },
  {
   "cell_type": "code",
   "execution_count": null,
   "metadata": {
    "collapsed": true
   },
   "outputs": [],
   "source": []
  }
 ],
 "metadata": {
  "kernelspec": {
   "display_name": "Python 2",
   "language": "python",
   "name": "python2"
  },
  "language_info": {
   "codemirror_mode": {
    "name": "ipython",
    "version": 2
   },
   "file_extension": ".py",
   "mimetype": "text/x-python",
   "name": "python",
   "nbconvert_exporter": "python",
   "pygments_lexer": "ipython2",
   "version": "2.7.12"
  }
 },
 "nbformat": 4,
 "nbformat_minor": 0
}
