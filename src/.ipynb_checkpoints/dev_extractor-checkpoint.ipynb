{
 "cells": [
  {
   "cell_type": "code",
   "execution_count": 10,
   "metadata": {
    "collapsed": false,
    "scrolled": true
   },
   "outputs": [
    {
     "name": "stdout",
     "output_type": "stream",
     "text": [
      "Overwriting extractor.py\n"
     ]
    }
   ],
   "source": [
    "%%file extractor.py\n",
    "'''\n",
    "Extract vectors in given layer.\n",
    "'''\n",
    "\n",
    "import os\n",
    "import numpy as np\n",
    "import cPickle\n",
    "from sklearn.cluster import KMeans\n",
    "from network import *\n",
    "from constant import *\n",
    "from vector import *\n",
    "    \n",
    "class Extractor:\n",
    "    def __init__(self, layer, sample_fraction, mode):\n",
    "        self.layer = layer\n",
    "        self.sample_fraction = sample_fraction\n",
    "        self.mode = mode\n",
    "        self.vectors = []\n",
    "        self.classnames = []\n",
    "        self.sample_mask = []\n",
    "    \n",
    "    # Find better way to write it to distribute more evenly\n",
    "    def sample(self, width, height, number):\n",
    "        prob_true = number * 1.0 / width / height\n",
    "        return np.random.rand(height, width) < prob_true\n",
    "        \n",
    "    def extract(self):\n",
    "        self.classnames = os.listdir(research_root + 'data/' + dataset_name)\n",
    "        for class_id, classname in enumerate(self.classnames):\n",
    "            print('Processing class: ' + classname)\n",
    "            for (dirpath, dirnames, filenames) in os.walk(research_root + 'data/' + dataset_name + classname):\n",
    "                for filename in filenames:\n",
    "                    path = os.path.abspath(os.path.join(dirpath, filename))\n",
    "                    \n",
    "                    # Feed image into net.\n",
    "                    net.predict([caffe.io.load_image(path)], oversample=False)\n",
    "                    if verbose:\n",
    "                        print('Processing image: '+ path)\n",
    "                        print(\"Predicted class is #{}.\".format(net.blobs['prob'].data[0].argmax()))\n",
    "                        top_k = net.blobs['prob'].data[0].flatten().argsort()[-1:-6:-1]\n",
    "                        print labels[top_k]\n",
    "                    \n",
    "                    #net.blobs[layer].data[batch][z][y][x]\n",
    "                    response = net.blobs[self.layer].data[0] # 0th batch.\n",
    "                    num_response = len(response)\n",
    "                    height_response = len(response[0])\n",
    "                    width_response = len(response[0][0])\n",
    "                    if len(self.sample_mask) == 0:\n",
    "                        # Sample_mask not initialized yet; sample new\n",
    "                        print str(num_response) + ' filters of ' + str(height_response) + 'x' + str(width_response)\n",
    "                        self.sample_mask = self.sample(width_response, height_response,\n",
    "                                float(self.sample_fraction) * width_response * height_response)\n",
    "                    # TODO: this could be parallelized by multiplication -- then filtering out 0 columns\n",
    "                    for y in range(height_response):\n",
    "                        for x in range(width_response):\n",
    "                            if self.sample_mask[y][x]:\n",
    "                                ## NOTE: DOUBLE CHECK IF FIRST IS Y SECOND IS X, corresponding to images\n",
    "                                v = Vector()\n",
    "                                v.data = response[:, y, x].copy()\n",
    "                                v.origin_file = path\n",
    "                                v.location = (x, y)\n",
    "                                v.class_id = class_id\n",
    "                                self.vectors.append(v)\n",
    "                    \n",
    "    def save(self):\n",
    "        with open(research_root + 'result/' + dataset_name + 'extractor.pickle', 'wb') as handle:\n",
    "            cPickle.dump(self, handle)\n",
    "\n",
    "            \n",
    "def main():        \n",
    "    extractor = Extractor('conv4_1', 0.3, 'gpu', net)\n",
    "    extractor.extract()\n",
    "    extractor.save()\n",
    "        \n",
    "        \n",
    "if __name__ == \"__main__\":\n",
    "    main()"
   ]
  },
  {
   "cell_type": "code",
   "execution_count": null,
   "metadata": {
    "collapsed": true
   },
   "outputs": [],
   "source": []
  },
  {
   "cell_type": "code",
   "execution_count": null,
   "metadata": {
    "collapsed": true
   },
   "outputs": [],
   "source": []
  }
 ],
 "metadata": {
  "kernelspec": {
   "display_name": "Python 2",
   "language": "python",
   "name": "python2"
  },
  "language_info": {
   "codemirror_mode": {
    "name": "ipython",
    "version": 2
   },
   "file_extension": ".py",
   "mimetype": "text/x-python",
   "name": "python",
   "nbconvert_exporter": "python",
   "pygments_lexer": "ipython2",
   "version": "2.7.12"
  }
 },
 "nbformat": 4,
 "nbformat_minor": 0
}
