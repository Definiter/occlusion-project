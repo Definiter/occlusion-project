{
 "cells": [
  {
   "cell_type": "code",
   "execution_count": 16,
   "metadata": {
    "collapsed": false,
    "scrolled": true
   },
   "outputs": [
    {
     "name": "stdout",
     "output_type": "stream",
     "text": [
      "Overwriting cluster.py\n"
     ]
    }
   ],
   "source": [
    "%%file cluster.py\n",
    "\n",
    "import cPickle\n",
    "import extractor\n",
    "from vector import *\n",
    "from constant import *\n",
    "\n",
    "class Cluster:\n",
    "    def __init__(self):\n",
    "        self.cluster_sum = None\n",
    "        self.restart_sum = None\n",
    "        self.kmeans = None\n",
    "        self.predicted = None\n",
    "        self.kmeans_scores = None\n",
    "        self.vectors = None\n",
    "    "
   ]
  },
  {
   "cell_type": "code",
   "execution_count": null,
   "metadata": {
    "collapsed": true
   },
   "outputs": [],
   "source": []
  }
 ],
 "metadata": {
  "kernelspec": {
   "display_name": "Python 2",
   "language": "python",
   "name": "python2"
  },
  "language_info": {
   "codemirror_mode": {
    "name": "ipython",
    "version": 2
   },
   "file_extension": ".py",
   "mimetype": "text/x-python",
   "name": "python",
   "nbconvert_exporter": "python",
   "pygments_lexer": "ipython2",
   "version": "2.7.12"
  }
 },
 "nbformat": 4,
 "nbformat_minor": 0
}
