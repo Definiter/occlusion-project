{
 "cells": [
  {
   "cell_type": "code",
   "execution_count": 4,
   "metadata": {
    "collapsed": false,
    "scrolled": false
   },
   "outputs": [
    {
     "name": "stdout",
     "output_type": "stream",
     "text": [
      "Overwriting finetune.py\n"
     ]
    }
   ],
   "source": [
    "%%file finetune.py\n",
    "# Fine tune.\n",
    "from constant import *\n",
    "import os\n",
    "import numpy as np\n",
    "import time\n",
    "import cPickle\n",
    "from pylab import *\n",
    "import argparse\n",
    "#%matplotlib inline\n",
    "\n",
    "parser = argparse.ArgumentParser()\n",
    "parser.add_argument('--gpu', default=0, required=False)\n",
    "parser.add_argument('--net_name', required=True)\n",
    "parser.add_argument('--type_str', required=True) # crop / nocrop / aperture\n",
    "args = parser.parse_args()\n",
    "gpu = int(args.gpu)\n",
    "net_name = args.net_name\n",
    "type_str = args.type_str\n",
    "\n",
    "import caffe\n",
    "\n",
    "plt.rcParams['figure.figsize'] = (20, 20)\n",
    "\n",
    "niter = 10000\n",
    "# Losses will also be stored in the log.\n",
    "train_loss = np.zeros(niter)\n",
    "train_accuracy = np.zeros(niter)\n",
    "test_accuracy = {}\n",
    "\n",
    "caffe.set_device(gpu)\n",
    "caffe.set_mode_gpu()\n",
    "\n",
    "print 'Processing: finetune_alexnet_{}_{}'.format(type_str, net_name), 'on GPU', gpu, ',', type_str\n",
    "\n",
    "solver = caffe.SGDSolver(result_root + 'model/finetune_alexnet_{}_{}/solver.prototxt'.format(type_str, net_name))\n",
    "solver.net.copy_from(imagenet_root + 'model/bvlc_alexnet/bvlc_alexnet.caffemodel')\n",
    "\n",
    "start_time = time.time()\n",
    "# We run the solver for niter times, and record the training loss.\n",
    "for it in range(niter):\n",
    "    solver.step(1)  # SGD by Caffe\n",
    "    train_loss[it] = solver.net.blobs['loss'].data\n",
    "    train_accuracy[it] = solver.net.blobs['accuracy_train'].data\n",
    "    second = int(time.time() - start_time)\n",
    "    estimated = int(float(niter) / (it + 1) * second)\n",
    "    now_time = time.strftime(\"%H:%M:%S\", time.gmtime(second))\n",
    "    estimated_time = time.strftime(\"%H:%M:%S\", time.gmtime(estimated))\n",
    "    if it % 100 == 0 or (it <= 1000 and it % 10 == 0):\n",
    "        test_iters = 10\n",
    "        accuracy = 0\n",
    "        for i in arange(test_iters):\n",
    "            solver.test_nets[0].forward()\n",
    "            accuracy += solver.test_nets[0].blobs['accuracy_test'].data\n",
    "        accuracy /= test_iters\n",
    "        test_accuracy[it] = accuracy\n",
    "        print '[{} / {}] iter{:6} | train_loss={:10.6f}, train_accuracy={:10.6f}, test_accuracy={:10.6f}'.format(now_time, estimated_time, it, float(train_loss[it]), float(train_accuracy[it]), accuracy)\n",
    "    elif it % 10 == 0:\n",
    "        print '[{} / {}] iter{:6} | train_loss={:10.6f}, train_accuracy={:10.6f}'.format(now_time, estimated_time, it, float(train_loss[it]), float(train_accuracy[it]))\n",
    "        \n",
    "solver.net.save(result_root + 'model/finetune_alexnet_{}_{}/finetune_alexnet_{}_{}.caffemodel'.format(type_str, net_name, type_str, net_name))\n",
    "\n",
    "with open(result_root + 'finetune/train_loss_{}_{}.pickle'.format(type_str, net_name), 'wb') as f:\n",
    "    cPickle.dump(train_loss, f)\n",
    "with open(result_root + 'finetune/train_accuracy_{}_{}.pickle'.format(type_str, net_name), 'wb') as f:\n",
    "    cPickle.dump(train_accuracy, f)\n",
    "with open(result_root + 'finetune/test_accuracy_{}_{}.pickle'.format(type_str, net_name), 'wb') as f:\n",
    "    cPickle.dump(test_accuracy, f)\n",
    "\n",
    "print 'done'"
   ]
  },
  {
   "cell_type": "code",
   "execution_count": 2,
   "metadata": {
    "collapsed": false
   },
   "outputs": [],
   "source": [
    "# Create network files.\n",
    "import os\n",
    "from constant import *\n",
    "\n",
    "type_str = 'crop_obj'\n",
    "#net_names = ['0', '10', '20', '30', '40', '50', '60', '70', '80', '90', '100' 'all']\n",
    "net_names = ['0', '20', '40', '60', '80', '100', 'all']\n",
    "\n",
    "with open(result_root + 'model/finetune_alexnet_prototype/deploy.prototxt') as f:\n",
    "    deploy_lines = f.readlines()\n",
    "with open(result_root + 'model/finetune_alexnet_prototype/solver.prototxt') as f:\n",
    "    solver_lines = f.readlines()\n",
    "with open(result_root + 'model/finetune_alexnet_prototype/train_val.prototxt') as f:\n",
    "    train_val_lines = f.readlines()\n",
    "\n",
    "\n",
    "for net_name in net_names:\n",
    "    folder = '{}model/finetune_alexnet_{}_{}/'.format(result_root, type_str, net_name)\n",
    "    if not os.path.exists(folder):\n",
    "        os.makedirs(folder)\n",
    "    solver_lines[0] = 'net: \"{}model/finetune_alexnet_{}_{}/train_val.prototxt\"\\n'.format(result_root, type_str, net_name)\n",
    "    solver_lines[14] = 'snapshot_prefix: \"{}model/finetune_alexnet_{}_{}/snapshot\"\\n'.format(result_root, type_str, net_name)\n",
    "    train_val_lines[15] = '    source: \"{}dataset/train_{}_{}.txt\"\\n'.format(imagenet_root, type_str, net_name)\n",
    "    train_val_lines[36] = '    source: \"{}dataset/test_{}_{}.txt\"\\n'.format(imagenet_root, type_str, net_name)\n",
    "    with open(folder + 'deploy.prototxt', 'w') as f:\n",
    "        f.writelines(deploy_lines)\n",
    "    with open(folder + 'solver.prototxt', 'w') as f:\n",
    "        f.writelines(solver_lines)\n",
    "    with open(folder + 'train_val.prototxt', 'w') as f:\n",
    "        f.writelines(train_val_lines)\n",
    "    "
   ]
  },
  {
   "cell_type": "code",
   "execution_count": null,
   "metadata": {
    "collapsed": true
   },
   "outputs": [],
   "source": []
  }
 ],
 "metadata": {
  "kernelspec": {
   "display_name": "Python 2",
   "language": "python",
   "name": "python2"
  },
  "language_info": {
   "codemirror_mode": {
    "name": "ipython",
    "version": 2
   },
   "file_extension": ".py",
   "mimetype": "text/x-python",
   "name": "python",
   "nbconvert_exporter": "python",
   "pygments_lexer": "ipython2",
   "version": "2.7.12"
  }
 },
 "nbformat": 4,
 "nbformat_minor": 0
}
