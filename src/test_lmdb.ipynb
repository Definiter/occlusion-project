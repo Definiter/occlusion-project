{
 "cells": [
  {
   "cell_type": "code",
   "execution_count": 3,
   "metadata": {
    "collapsed": false,
    "deletable": true,
    "editable": true,
    "scrolled": false
   },
   "outputs": [
    {
     "name": "stdout",
     "output_type": "stream",
     "text": [
      "Overwriting test.py\n"
     ]
    }
   ],
   "source": [
    "%%file test.py\n",
    "# Test.\n",
    "from constant import *\n",
    "import numpy as np\n",
    "import matplotlib.pyplot as plt\n",
    "#%matplotlib inline\n",
    "import sys\n",
    "import time\n",
    "import cPickle\n",
    "import argparse\n",
    "import math\n",
    "\n",
    "#test_dataset = ['0', '10', '20', '30', '40', '50', '60', '70', '80', '90', '100']\n",
    "#test_dataset = ['0', '20', '40', '60', '80', '100']\n",
    "#### Parameters ####\n",
    "parser = argparse.ArgumentParser()\n",
    "parser.add_argument('--gpu', default=0, required=False)\n",
    "parser.add_argument('--model_type_str', required=True)\n",
    "parser.add_argument('--model_name', required=True)\n",
    "parser.add_argument('--test_type_str', required=True)\n",
    "parser.add_argument('--test_name', required=True)\n",
    "\n",
    "args = parser.parse_args()\n",
    "gpu = int(args.gpu)\n",
    "model_type_str = args.model_type_str\n",
    "model_name = args.model_name\n",
    "test_type_str = args.test_type_str\n",
    "test_name = args.test_name\n",
    "'''\n",
    "\n",
    "gpu = 0\n",
    "model_type_str = 'nocrop'\n",
    "model_name = '0'\n",
    "test_type_str = 'nocrop'\n",
    "test_name = '20'\n",
    "'''\n",
    "####################\n",
    "\n",
    "import caffe\n",
    "\n",
    "caffe.set_device(gpu)\n",
    "caffe.set_mode_gpu()\n",
    "\n",
    "print 'Processing: finetune_alexnet_{}_{} on GPU {}, test on {}'.format(model_type_str, model_name, gpu, test_type_str)\n",
    "\n",
    "test_net = caffe.Net(result_root + 'model/finetune_alexnet_{}_{}/test_{}_{}.prototxt'\\\n",
    "                .format(model_type_str, model_name, test_type_str, test_name),\n",
    "                result_root + 'model/finetune_alexnet_{}_{}/finetune_alexnet_{}_{}.caffemodel'\\\n",
    "                .format(model_type_str, model_name, model_type_str, model_name),\n",
    "                caffe.TEST)\n",
    "\n",
    "image_sum = 0\n",
    "test_file = open('{}dataset/test_{}_{}.txt'.format(imagenet_root, test_type_str, test_name), 'r')\n",
    "image_sum = len(test_file.readlines())\n",
    "test_file.close()\n",
    "\n",
    "test_iters = int(math.ceil(image_sum / 256.0)) # batch_size\n",
    "print test_iters, image_sum\n",
    "\n",
    "accuracy = 0.0\n",
    "for i in range(test_iters):\n",
    "    test_net.forward()\n",
    "    accuracy += test_net.blobs['accuracy_test'].data\n",
    "    print '[{}/{}] {}'.format(i, test_iters, accuracy / (i + 1))\n",
    "accuracy /= test_iters\n",
    "print 'accuracy: ', accuracy\n",
    "    \n",
    "with open(result_root + 'test/accuracy_{}_{}_{}_{}.pickle'.format(model_type_str, model_name, test_type_str, test_name), 'wb') as f:\n",
    "    cPickle.dump(accuracy, f)"
   ]
  },
  {
   "cell_type": "code",
   "execution_count": 2,
   "metadata": {
    "collapsed": false,
    "deletable": true,
    "editable": true
   },
   "outputs": [],
   "source": [
    "# Generate test_{}_{}.prototxt for testing.\n",
    "import os\n",
    "from constant import *\n",
    "\n",
    "model_type_strs = ['crop_image']\n",
    "model_names = ['all']\n",
    "test_type_strs = ['crop', 'crop_img', 'crop_obj', 'crop_image', 'aperture']\n",
    "test_names = ['0', '10', '20', '30', '40', '50', '60', '70', '80', '90', '100']\n",
    "\n",
    "for model_type_str in model_type_strs:\n",
    "    for model_name in model_names:\n",
    "        f = open(result_root + 'model/finetune_alexnet_{}_{}/train_val.prototxt'.format(model_type_str, model_name))\n",
    "        lines = f.readlines()\n",
    "        f.close()\n",
    "        for test_type_str in test_type_strs:\n",
    "            for test_name in test_names:\n",
    "                lines[34] = '    source: \"/data2/haow3/data/imagenet/lmdb/test_{}_{}\"\\n'.format(test_type_str, test_name)\n",
    "                test_file = open(result_root + 'model/finetune_alexnet_{}_{}/test_{}_{}.prototxt'\\\n",
    "                                 .format(model_type_str, model_name, test_type_str, test_name), 'w')\n",
    "                test_file.writelines(lines)\n",
    "                test_file.close()"
   ]
  },
  {
   "cell_type": "code",
   "execution_count": null,
   "metadata": {
    "collapsed": true,
    "deletable": true,
    "editable": true
   },
   "outputs": [],
   "source": []
  }
 ],
 "metadata": {
  "kernelspec": {
   "display_name": "Python 2",
   "language": "python",
   "name": "python2"
  },
  "language_info": {
   "codemirror_mode": {
    "name": "ipython",
    "version": 2
   },
   "file_extension": ".py",
   "mimetype": "text/x-python",
   "name": "python",
   "nbconvert_exporter": "python",
   "pygments_lexer": "ipython2",
   "version": "2.7.13"
  }
 },
 "nbformat": 4,
 "nbformat_minor": 0
}
